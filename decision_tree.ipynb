{
 "cells": [
  {
   "cell_type": "code",
   "id": "initial_id",
   "metadata": {
    "collapsed": true,
    "ExecuteTime": {
     "end_time": "2024-10-08T16:56:52.596210Z",
     "start_time": "2024-10-08T16:56:52.594172Z"
    }
   },
   "source": [
    "import pandas as pd\n",
    "from helpers import *\n",
    "import os"
   ],
   "outputs": [],
   "execution_count": 98
  },
  {
   "metadata": {
    "ExecuteTime": {
     "end_time": "2024-10-08T16:56:52.609748Z",
     "start_time": "2024-10-08T16:56:52.607323Z"
    }
   },
   "cell_type": "code",
   "source": "decision_df = pd.DataFrame(columns=['DOI', 'decision', 'rationale', 'stage'])",
   "id": "3429051592dfbf89",
   "outputs": [],
   "execution_count": 99
  },
  {
   "metadata": {
    "ExecuteTime": {
     "end_time": "2024-10-08T16:56:52.628467Z",
     "start_time": "2024-10-08T16:56:52.627005Z"
    }
   },
   "cell_type": "code",
   "source": "NUM_OF_PUB = 284",
   "id": "5df42f18e32cc5e1",
   "outputs": [],
   "execution_count": 100
  },
  {
   "metadata": {
    "ExecuteTime": {
     "end_time": "2024-10-08T16:56:52.644829Z",
     "start_time": "2024-10-08T16:56:52.643106Z"
    }
   },
   "cell_type": "code",
   "source": [
    "OUTPUT = 'decision_tree_output'\n",
    "if not os.path.exists(OUTPUT):\n",
    "    os.makedirs(OUTPUT)"
   ],
   "id": "c8b0469ae08be903",
   "outputs": [],
   "execution_count": 101
  },
  {
   "metadata": {
    "ExecuteTime": {
     "end_time": "2024-10-08T16:56:52.659370Z",
     "start_time": "2024-10-08T16:56:52.657956Z"
    }
   },
   "cell_type": "code",
   "source": [
    "# file paths\n",
    "CITATION_CONTEXT_FILE_PARAGRAPH = 'input_data/metadata.csv'\n",
    "KEYWORD_DICT_FILE = 'input_data/keyword_dictionary.csv'\n",
    "CITATION_CONTEXT_FILE_SENTENCE = 'input_data/citation_context_sentence.csv'"
   ],
   "id": "3de102c489db32c5",
   "outputs": [],
   "execution_count": 102
  },
  {
   "metadata": {},
   "cell_type": "markdown",
   "source": "## Stage 1",
   "id": "f9c8da92a76ba12"
  },
  {
   "metadata": {
    "ExecuteTime": {
     "end_time": "2024-10-08T16:56:52.680174Z",
     "start_time": "2024-10-08T16:56:52.671442Z"
    }
   },
   "cell_type": "code",
   "source": [
    "data_raw = pd.read_csv(CITATION_CONTEXT_FILE_PARAGRAPH, nrows=401)\n",
    "data = dataset_socket(data_raw)\n",
    "data_s1 = dataset_socket(data_raw)\n",
    "data_s1.drop(columns=['citation_marker', 'paragraph', 'section'], inplace=True)\n",
    "data_s1.drop_duplicates(inplace=True)"
   ],
   "id": "8200639297b6b301",
   "outputs": [],
   "execution_count": 103
  },
  {
   "metadata": {
    "ExecuteTime": {
     "end_time": "2024-10-08T16:56:52.695360Z",
     "start_time": "2024-10-08T16:56:52.693869Z"
    }
   },
   "cell_type": "code",
   "source": "assert data_s1.shape[0] == NUM_OF_PUB # should be 284",
   "id": "63105d606199ac7f",
   "outputs": [],
   "execution_count": 104
  },
  {
   "metadata": {
    "ExecuteTime": {
     "end_time": "2024-10-08T16:56:52.709862Z",
     "start_time": "2024-10-08T16:56:52.708019Z"
    }
   },
   "cell_type": "code",
   "source": "Q1_out = data_s1.loc[(data_s1['Q1 - Review article? (WoS)'] == 'y') | (data_s1['Q1 - Review article? (Scopus)'] == 'y')]",
   "id": "ac8dab7d1eba8fb8",
   "outputs": [],
   "execution_count": 105
  },
  {
   "metadata": {
    "ExecuteTime": {
     "end_time": "2024-10-08T16:56:52.724354Z",
     "start_time": "2024-10-08T16:56:52.722409Z"
    }
   },
   "cell_type": "code",
   "source": "print(f'Q1 triage out {Q1_out.shape[0]} ({int(Q1_out.shape[0]/NUM_OF_PUB*100)}%) articles')",
   "id": "7cc68764b308fafc",
   "outputs": [
    {
     "name": "stdout",
     "output_type": "stream",
     "text": [
      "Q1 triage out 31 (10%) articles\n"
     ]
    }
   ],
   "execution_count": 106
  },
  {
   "metadata": {
    "ExecuteTime": {
     "end_time": "2024-10-08T16:56:52.739226Z",
     "start_time": "2024-10-08T16:56:52.737051Z"
    }
   },
   "cell_type": "code",
   "source": [
    "temp = pd.DataFrame({'DOI': Q1_out['DOI'],\n",
    "                     'decision': 'negligible risk',\n",
    "                     'rationale': 'This paper is a review',\n",
    "                     'stage': '1'})\n",
    "decision_df = pd.concat((decision_df, temp), axis=0).reset_index()"
   ],
   "id": "a7e7ae31793c1216",
   "outputs": [],
   "execution_count": 107
  },
  {
   "metadata": {
    "ExecuteTime": {
     "end_time": "2024-10-08T16:56:52.754276Z",
     "start_time": "2024-10-08T16:56:52.752234Z"
    }
   },
   "cell_type": "code",
   "source": [
    "data_s1.drop(inplace=True, labels=Q1_out.index)\n",
    "data_s1.shape"
   ],
   "id": "9368cdd4cc730973",
   "outputs": [
    {
     "data": {
      "text/plain": [
       "(253, 5)"
      ]
     },
     "execution_count": 108,
     "metadata": {},
     "output_type": "execute_result"
    }
   ],
   "execution_count": 108
  },
  {
   "metadata": {
    "ExecuteTime": {
     "end_time": "2024-10-08T16:56:52.769825Z",
     "start_time": "2024-10-08T16:56:52.767890Z"
    }
   },
   "cell_type": "code",
   "source": "Q2_out = data_s1.loc[(data_s1['Q2 - Addendum or Neupane? (WoS)'] == 'y') | (data_s1['Q2 - Addendum or Neupane? (Scopus)'] == 'y'),]",
   "id": "a67cf9e468e7126e",
   "outputs": [],
   "execution_count": 109
  },
  {
   "metadata": {
    "ExecuteTime": {
     "end_time": "2024-10-08T16:56:52.784293Z",
     "start_time": "2024-10-08T16:56:52.782769Z"
    }
   },
   "cell_type": "code",
   "source": "print(f'Q2 triage out {Q2_out.shape[0]} ({int(Q2_out.shape[0]/NUM_OF_PUB*100)}%) articles')",
   "id": "3ebd756ddc438f09",
   "outputs": [
    {
     "name": "stdout",
     "output_type": "stream",
     "text": [
      "Q2 triage out 13 (4%) articles\n"
     ]
    }
   ],
   "execution_count": 110
  },
  {
   "metadata": {
    "ExecuteTime": {
     "end_time": "2024-10-08T16:56:52.799286Z",
     "start_time": "2024-10-08T16:56:52.796991Z"
    }
   },
   "cell_type": "code",
   "source": [
    "temp = pd.DataFrame({'DOI': Q2_out['DOI'],\n",
    "                     'decision': 'negligible risk',\n",
    "                     'rationale': 'This paper cited Addendum or Neupane et al. 2019',\n",
    "                     'stage': '1'})\n",
    "decision_df = pd.concat((decision_df, temp), axis=0).reset_index(drop=True)"
   ],
   "id": "77bd058cd2843b17",
   "outputs": [],
   "execution_count": 111
  },
  {
   "metadata": {
    "ExecuteTime": {
     "end_time": "2024-10-08T16:56:52.814486Z",
     "start_time": "2024-10-08T16:56:52.812608Z"
    }
   },
   "cell_type": "code",
   "source": "data_s1.drop(inplace=True, labels=Q2_out.index)",
   "id": "5f6241183a017beb",
   "outputs": [],
   "execution_count": 112
  },
  {
   "metadata": {
    "ExecuteTime": {
     "end_time": "2024-10-08T16:56:52.830242Z",
     "start_time": "2024-10-08T16:56:52.828248Z"
    }
   },
   "cell_type": "code",
   "source": "data_s1.shape",
   "id": "75773152071e8703",
   "outputs": [
    {
     "data": {
      "text/plain": [
       "(240, 5)"
      ]
     },
     "execution_count": 113,
     "metadata": {},
     "output_type": "execute_result"
    }
   ],
   "execution_count": 113
  },
  {
   "metadata": {
    "ExecuteTime": {
     "end_time": "2024-10-08T16:56:52.844740Z",
     "start_time": "2024-10-08T16:56:52.843012Z"
    }
   },
   "cell_type": "code",
   "source": [
    "num_triage_out = len(decision_df)\n",
    "print(f'Stage 1 triage out {num_triage_out} ({int(num_triage_out/NUM_OF_PUB*100)}%) articles')"
   ],
   "id": "a52c1e7094ffc4f0",
   "outputs": [
    {
     "name": "stdout",
     "output_type": "stream",
     "text": [
      "Stage 1 triage out 44 (15%) articles\n"
     ]
    }
   ],
   "execution_count": 114
  },
  {
   "metadata": {},
   "cell_type": "markdown",
   "source": "## Stage 2",
   "id": "e0479fb1ab814089"
  },
  {
   "metadata": {
    "ExecuteTime": {
     "end_time": "2024-10-08T16:56:52.862581Z",
     "start_time": "2024-10-08T16:56:52.859Z"
    }
   },
   "cell_type": "code",
   "source": [
    "data_s2 = data.merge(data_s1['DOI'], on='DOI', how='right')\n",
    "data_s2.shape"
   ],
   "id": "a9786b6474e43b51",
   "outputs": [
    {
     "data": {
      "text/plain": [
       "(335, 8)"
      ]
     },
     "execution_count": 115,
     "metadata": {},
     "output_type": "execute_result"
    }
   ],
   "execution_count": 115
  },
  {
   "metadata": {
    "ExecuteTime": {
     "end_time": "2024-10-08T16:56:52.877381Z",
     "start_time": "2024-10-08T16:56:52.875635Z"
    }
   },
   "cell_type": "code",
   "source": "assert len(set(data_s2['DOI'].to_list())) == 240 # check whether the merge is correct",
   "id": "2982ff6238f8919d",
   "outputs": [],
   "execution_count": 116
  },
  {
   "metadata": {
    "ExecuteTime": {
     "end_time": "2024-10-08T16:56:52.896818Z",
     "start_time": "2024-10-08T16:56:52.890751Z"
    }
   },
   "cell_type": "code",
   "source": "pub_dict = data_ingestion_s2(data_s2)",
   "id": "1d4ea56eff1e0162",
   "outputs": [],
   "execution_count": 117
  },
  {
   "metadata": {
    "ExecuteTime": {
     "end_time": "2024-10-08T16:56:52.912097Z",
     "start_time": "2024-10-08T16:56:52.910195Z"
    }
   },
   "cell_type": "code",
   "source": [
    "pub_doi_l = []\n",
    "pub_decision_l = []\n",
    "for key, value in pub_dict.items():\n",
    "    pub_doi_l.append(key)\n",
    "    pub_decision_l.append(is_only_in_introduction(value))"
   ],
   "id": "8051238df814a8f2",
   "outputs": [],
   "execution_count": 118
  },
  {
   "metadata": {
    "ExecuteTime": {
     "end_time": "2024-10-08T16:56:52.929268Z",
     "start_time": "2024-10-08T16:56:52.927173Z"
    }
   },
   "cell_type": "code",
   "source": [
    "Q3_out = pd.DataFrame({'DOI': pub_doi_l,\n",
    "                       'Is only in introduction': pub_decision_l})\n",
    "Q3_out = Q3_out[Q3_out['Is only in introduction'] == True]"
   ],
   "id": "31cb18a9453f5315",
   "outputs": [],
   "execution_count": 119
  },
  {
   "metadata": {
    "ExecuteTime": {
     "end_time": "2024-10-08T16:56:52.945878Z",
     "start_time": "2024-10-08T16:56:52.944146Z"
    }
   },
   "cell_type": "code",
   "source": "print(f'Q3 triage out {Q3_out.shape[0]} ({int(Q3_out.shape[0]/NUM_OF_PUB*100)}%) articles')",
   "id": "a1513596bb765004",
   "outputs": [
    {
     "name": "stdout",
     "output_type": "stream",
     "text": [
      "Q3 triage out 37 (13%) articles\n"
     ]
    }
   ],
   "execution_count": 120
  },
  {
   "metadata": {
    "ExecuteTime": {
     "end_time": "2024-10-08T16:56:52.963236Z",
     "start_time": "2024-10-08T16:56:52.960932Z"
    }
   },
   "cell_type": "code",
   "source": [
    "temp = pd.DataFrame({'DOI': Q3_out['DOI'],\n",
    "                     'decision': 'negligible risk',\n",
    "                     'rationale': 'Citations only appear in the introduction section',\n",
    "                     'stage': '2'})\n",
    "decision_df = pd.concat((decision_df, temp), axis=0).reset_index(drop=True)\n",
    "num_triage_out = len(decision_df) - num_triage_out"
   ],
   "id": "e3bb93a7051d1eb1",
   "outputs": [],
   "execution_count": 121
  },
  {
   "metadata": {
    "ExecuteTime": {
     "end_time": "2024-10-08T16:56:52.978594Z",
     "start_time": "2024-10-08T16:56:52.977035Z"
    }
   },
   "cell_type": "code",
   "source": "print(f'Stage 2 triage out {num_triage_out} ({int(num_triage_out/NUM_OF_PUB*100)}%) articles')",
   "id": "afc21dd35bb9653f",
   "outputs": [
    {
     "name": "stdout",
     "output_type": "stream",
     "text": [
      "Stage 2 triage out 37 (13%) articles\n"
     ]
    }
   ],
   "execution_count": 122
  },
  {
   "metadata": {
    "ExecuteTime": {
     "end_time": "2024-10-08T16:56:52.995271Z",
     "start_time": "2024-10-08T16:56:52.993453Z"
    }
   },
   "cell_type": "code",
   "source": "print(f'Still {NUM_OF_PUB - len(decision_df)} articles to triage') # remaining articles",
   "id": "235c79f0dbbaf32a",
   "outputs": [
    {
     "name": "stdout",
     "output_type": "stream",
     "text": [
      "Still 203 articles to triage\n"
     ]
    }
   ],
   "execution_count": 123
  },
  {
   "metadata": {},
   "cell_type": "markdown",
   "source": "## Stage 3 Keyword Approach",
   "id": "e0944608ed511a53"
  },
  {
   "metadata": {
    "ExecuteTime": {
     "end_time": "2024-10-08T16:56:53.013238Z",
     "start_time": "2024-10-08T16:56:53.010107Z"
    }
   },
   "cell_type": "code",
   "source": [
    "cc_df = pd.read_csv(CITATION_CONTEXT_FILE_SENTENCE, encoding='utf-8')\n",
    "# cc_df = pd.read_csv('data/citation_context_Yuanxi_updated_trimmed.csv', encoding='utf-8')"
   ],
   "id": "ca64cce44d53a2d0",
   "outputs": [],
   "execution_count": 124
  },
  {
   "metadata": {
    "ExecuteTime": {
     "end_time": "2024-10-08T16:56:53.028787Z",
     "start_time": "2024-10-08T16:56:53.027260Z"
    }
   },
   "cell_type": "code",
   "source": "cc_df['DOI'] = cc_df['DOI'].apply(clean)",
   "id": "6e9cd37b486d0896",
   "outputs": [],
   "execution_count": 125
  },
  {
   "metadata": {
    "ExecuteTime": {
     "end_time": "2024-10-08T16:56:53.044425Z",
     "start_time": "2024-10-08T16:56:53.042790Z"
    }
   },
   "cell_type": "code",
   "source": "assert len(set(cc_df['DOI'].to_list())) == 203 # test whether the merge was correct",
   "id": "c05cb8d86fd17839",
   "outputs": [],
   "execution_count": 126
  },
  {
   "metadata": {
    "ExecuteTime": {
     "end_time": "2024-10-08T16:56:53.064065Z",
     "start_time": "2024-10-08T16:56:53.058773Z"
    }
   },
   "cell_type": "code",
   "source": [
    "# stage 3 data ingestion -- keyword approach\n",
    "pub_dict = OrderedDict()\n",
    "\n",
    "for _, row in cc_df.iterrows():\n",
    "    DOI = row['DOI']\n",
    "\n",
    "    if DOI not in pub_dict:\n",
    "        pub_dict[DOI] = {'citation_context': []}\n",
    "\n",
    "    pub_dict[DOI]['citation_context'].append({'sent': row['Citation context (sent)']})"
   ],
   "id": "bf61145850d983b9",
   "outputs": [],
   "execution_count": 127
  },
  {
   "metadata": {
    "ExecuteTime": {
     "end_time": "2024-10-08T16:56:53.080847Z",
     "start_time": "2024-10-08T16:56:53.077775Z"
    }
   },
   "cell_type": "code",
   "source": "keyword_dict = keyword_dict_construction(KEYWORD_DICT_FILE)",
   "id": "494a10ec0af77fe9",
   "outputs": [],
   "execution_count": 128
  },
  {
   "metadata": {
    "ExecuteTime": {
     "end_time": "2024-10-08T16:56:53.100023Z",
     "start_time": "2024-10-08T16:56:53.093881Z"
    }
   },
   "cell_type": "code",
   "source": [
    "pub_doi_l = []\n",
    "pub_decision_l = []\n",
    "pub_rationale_l = []\n",
    "\n",
    "for key, value in pub_dict.items():\n",
    "    detection_dict = keyword_detection(value, keyword_dict) \n",
    "    pub_doi_l.append(key)\n",
    "    \n",
    "    if len(detection_dict['elevating']) > 0:\n",
    "        pub_decision_l.append('high risk')\n",
    "        pub_rationale_l.append(f'Contain risk-elevating keyword {detection_dict[\"elevating\"]}')\n",
    "                               \n",
    "    elif detection_dict['all_reducing']:\n",
    "        pub_decision_l.append('negligible risk')\n",
    "        pub_rationale_l.append('All citation contexts contain risk-reducing keywords')\n",
    "    else:\n",
    "        pub_decision_l.append('medium risk')\n",
    "        pub_rationale_l.append('neither risk-elevating nor risk-reducing attributes detected ')\n",
    "        "
   ],
   "id": "f6c93d0985235cbf",
   "outputs": [],
   "execution_count": 129
  },
  {
   "metadata": {
    "ExecuteTime": {
     "end_time": "2024-10-08T16:56:53.115020Z",
     "start_time": "2024-10-08T16:56:53.112695Z"
    }
   },
   "cell_type": "code",
   "source": [
    "temp = pd.DataFrame({'DOI': pub_doi_l,\n",
    "                     'decision': pub_decision_l,\n",
    "                     'rationale': pub_rationale_l,\n",
    "                     'stage': '3'})\n",
    "decision_df_keywords = pd.concat((decision_df, temp), axis=0).reset_index(drop=True)\n",
    "decision_df_keywords.shape"
   ],
   "id": "5586492ad6b26cab",
   "outputs": [
    {
     "data": {
      "text/plain": [
       "(284, 5)"
      ]
     },
     "execution_count": 130,
     "metadata": {},
     "output_type": "execute_result"
    }
   ],
   "execution_count": 130
  },
  {
   "metadata": {
    "ExecuteTime": {
     "end_time": "2024-10-08T16:56:53.129829Z",
     "start_time": "2024-10-08T16:56:53.127976Z"
    }
   },
   "cell_type": "code",
   "source": [
    "num_triage_out = pub_decision_l.count('negligible risk')\n",
    "print(f'Stage 3 with the keyword approach triage out {num_triage_out} ({int(num_triage_out/NUM_OF_PUB*100)}%) articles')"
   ],
   "id": "2e5f91f2633d874",
   "outputs": [
    {
     "name": "stdout",
     "output_type": "stream",
     "text": [
      "Stage 3 with the keyword approach triage out 50 (17%) articles\n"
     ]
    }
   ],
   "execution_count": 131
  },
  {
   "metadata": {
    "ExecuteTime": {
     "end_time": "2024-10-08T16:56:53.144697Z",
     "start_time": "2024-10-08T16:56:53.143122Z"
    }
   },
   "cell_type": "code",
   "source": "assert decision_df_keywords.shape[0] == NUM_OF_PUB",
   "id": "21941535a6118bf6",
   "outputs": [],
   "execution_count": 132
  },
  {
   "metadata": {},
   "cell_type": "markdown",
   "source": "### Output results as decision_df_keywords.csv",
   "id": "368a42b73273df2f"
  },
  {
   "metadata": {
    "ExecuteTime": {
     "end_time": "2024-10-08T16:56:53.159489Z",
     "start_time": "2024-10-08T16:56:53.156419Z"
    }
   },
   "cell_type": "code",
   "source": "decision_df_keywords.drop(columns=['index']).to_csv('decision_tree_output/decision_df_keywords.csv', index=False, encoding='utf-8-sig')",
   "id": "5061ae1f222bac9e",
   "outputs": [],
   "execution_count": 133
  },
  {
   "metadata": {
    "ExecuteTime": {
     "end_time": "2024-10-08T16:56:53.174182Z",
     "start_time": "2024-10-08T16:56:53.172660Z"
    }
   },
   "cell_type": "code",
   "source": "assert len(set(decision_df_keywords['DOI'].to_list())) == NUM_OF_PUB",
   "id": "c24d83337a886a5f",
   "outputs": [],
   "execution_count": 134
  },
  {
   "metadata": {
    "ExecuteTime": {
     "end_time": "2024-10-08T16:56:53.190353Z",
     "start_time": "2024-10-08T16:56:53.186929Z"
    }
   },
   "cell_type": "code",
   "source": "decision_df_keywords.head()",
   "id": "a4828e0b4254e8ea",
   "outputs": [
    {
     "data": {
      "text/plain": [
       "   index                     DOI         decision               rationale  \\\n",
       "0   10.0  10.1002/chem.201601150  negligible risk  This paper is a review   \n",
       "1   15.0  10.1002/chem.202004790  negligible risk  This paper is a review   \n",
       "2   36.0        10.1002/mrc.4989  negligible risk  This paper is a review   \n",
       "3   39.0        10.1002/mrc.5234  negligible risk  This paper is a review   \n",
       "4   41.0        10.1002/mrc.5260  negligible risk  This paper is a review   \n",
       "\n",
       "  stage  \n",
       "0     1  \n",
       "1     1  \n",
       "2     1  \n",
       "3     1  \n",
       "4     1  "
      ],
      "text/html": [
       "<div>\n",
       "<style scoped>\n",
       "    .dataframe tbody tr th:only-of-type {\n",
       "        vertical-align: middle;\n",
       "    }\n",
       "\n",
       "    .dataframe tbody tr th {\n",
       "        vertical-align: top;\n",
       "    }\n",
       "\n",
       "    .dataframe thead th {\n",
       "        text-align: right;\n",
       "    }\n",
       "</style>\n",
       "<table border=\"1\" class=\"dataframe\">\n",
       "  <thead>\n",
       "    <tr style=\"text-align: right;\">\n",
       "      <th></th>\n",
       "      <th>index</th>\n",
       "      <th>DOI</th>\n",
       "      <th>decision</th>\n",
       "      <th>rationale</th>\n",
       "      <th>stage</th>\n",
       "    </tr>\n",
       "  </thead>\n",
       "  <tbody>\n",
       "    <tr>\n",
       "      <th>0</th>\n",
       "      <td>10.0</td>\n",
       "      <td>10.1002/chem.201601150</td>\n",
       "      <td>negligible risk</td>\n",
       "      <td>This paper is a review</td>\n",
       "      <td>1</td>\n",
       "    </tr>\n",
       "    <tr>\n",
       "      <th>1</th>\n",
       "      <td>15.0</td>\n",
       "      <td>10.1002/chem.202004790</td>\n",
       "      <td>negligible risk</td>\n",
       "      <td>This paper is a review</td>\n",
       "      <td>1</td>\n",
       "    </tr>\n",
       "    <tr>\n",
       "      <th>2</th>\n",
       "      <td>36.0</td>\n",
       "      <td>10.1002/mrc.4989</td>\n",
       "      <td>negligible risk</td>\n",
       "      <td>This paper is a review</td>\n",
       "      <td>1</td>\n",
       "    </tr>\n",
       "    <tr>\n",
       "      <th>3</th>\n",
       "      <td>39.0</td>\n",
       "      <td>10.1002/mrc.5234</td>\n",
       "      <td>negligible risk</td>\n",
       "      <td>This paper is a review</td>\n",
       "      <td>1</td>\n",
       "    </tr>\n",
       "    <tr>\n",
       "      <th>4</th>\n",
       "      <td>41.0</td>\n",
       "      <td>10.1002/mrc.5260</td>\n",
       "      <td>negligible risk</td>\n",
       "      <td>This paper is a review</td>\n",
       "      <td>1</td>\n",
       "    </tr>\n",
       "  </tbody>\n",
       "</table>\n",
       "</div>"
      ]
     },
     "execution_count": 135,
     "metadata": {},
     "output_type": "execute_result"
    }
   ],
   "execution_count": 135
  },
  {
   "metadata": {},
   "cell_type": "markdown",
   "source": "## Stage 3 Machine Learning Approach",
   "id": "c85777f87e6c2da8"
  },
  {
   "metadata": {
    "ExecuteTime": {
     "end_time": "2024-10-08T16:56:53.217432Z",
     "start_time": "2024-10-08T16:56:53.214432Z"
    }
   },
   "cell_type": "code",
   "source": "tilo_df = pd.read_csv('input_data/LSTM_prediction_203.csv')",
   "id": "2ebd0cb1b423b822",
   "outputs": [],
   "execution_count": 136
  },
  {
   "metadata": {
    "ExecuteTime": {
     "end_time": "2024-10-08T16:56:53.226872Z",
     "start_time": "2024-10-08T16:56:53.224009Z"
    }
   },
   "cell_type": "code",
   "source": "tilo_df.head()",
   "id": "d1302c6f472e4670",
   "outputs": [
    {
     "data": {
      "text/plain": [
       "  CC_ID                     DOI  \\\n",
       "0   CC1  10.1002/anie.201706532   \n",
       "1   CC2  10.1002/anie.201708266   \n",
       "2   CC3  10.1002/anie.201708266   \n",
       "3   CC4  10.1002/anie.201810566   \n",
       "4   CC5  10.1002/anie.201902777   \n",
       "\n",
       "                             Citation context (sent)  \\\n",
       "0  The validity of structure 5 was confirmed by D...   \n",
       "1  To the best of our knowledge, such a composite...   \n",
       "2  Taking a Boltzmann average of NMR parameters c...   \n",
       "3  To resolve this ambiguity, we conducted NMR pr...   \n",
       "4  There are now numerous in silico methods to he...   \n",
       "\n",
       "  Citation context level annotation  Predicted label  \n",
       "0                                 Y             True  \n",
       "1                                 N            False  \n",
       "2                                 N            False  \n",
       "3                                 Y             True  \n",
       "4                                 N            False  "
      ],
      "text/html": [
       "<div>\n",
       "<style scoped>\n",
       "    .dataframe tbody tr th:only-of-type {\n",
       "        vertical-align: middle;\n",
       "    }\n",
       "\n",
       "    .dataframe tbody tr th {\n",
       "        vertical-align: top;\n",
       "    }\n",
       "\n",
       "    .dataframe thead th {\n",
       "        text-align: right;\n",
       "    }\n",
       "</style>\n",
       "<table border=\"1\" class=\"dataframe\">\n",
       "  <thead>\n",
       "    <tr style=\"text-align: right;\">\n",
       "      <th></th>\n",
       "      <th>CC_ID</th>\n",
       "      <th>DOI</th>\n",
       "      <th>Citation context (sent)</th>\n",
       "      <th>Citation context level annotation</th>\n",
       "      <th>Predicted label</th>\n",
       "    </tr>\n",
       "  </thead>\n",
       "  <tbody>\n",
       "    <tr>\n",
       "      <th>0</th>\n",
       "      <td>CC1</td>\n",
       "      <td>10.1002/anie.201706532</td>\n",
       "      <td>The validity of structure 5 was confirmed by D...</td>\n",
       "      <td>Y</td>\n",
       "      <td>True</td>\n",
       "    </tr>\n",
       "    <tr>\n",
       "      <th>1</th>\n",
       "      <td>CC2</td>\n",
       "      <td>10.1002/anie.201708266</td>\n",
       "      <td>To the best of our knowledge, such a composite...</td>\n",
       "      <td>N</td>\n",
       "      <td>False</td>\n",
       "    </tr>\n",
       "    <tr>\n",
       "      <th>2</th>\n",
       "      <td>CC3</td>\n",
       "      <td>10.1002/anie.201708266</td>\n",
       "      <td>Taking a Boltzmann average of NMR parameters c...</td>\n",
       "      <td>N</td>\n",
       "      <td>False</td>\n",
       "    </tr>\n",
       "    <tr>\n",
       "      <th>3</th>\n",
       "      <td>CC4</td>\n",
       "      <td>10.1002/anie.201810566</td>\n",
       "      <td>To resolve this ambiguity, we conducted NMR pr...</td>\n",
       "      <td>Y</td>\n",
       "      <td>True</td>\n",
       "    </tr>\n",
       "    <tr>\n",
       "      <th>4</th>\n",
       "      <td>CC5</td>\n",
       "      <td>10.1002/anie.201902777</td>\n",
       "      <td>There are now numerous in silico methods to he...</td>\n",
       "      <td>N</td>\n",
       "      <td>False</td>\n",
       "    </tr>\n",
       "  </tbody>\n",
       "</table>\n",
       "</div>"
      ]
     },
     "execution_count": 137,
     "metadata": {},
     "output_type": "execute_result"
    }
   ],
   "execution_count": 137
  },
  {
   "metadata": {
    "ExecuteTime": {
     "end_time": "2024-10-08T16:56:53.257692Z",
     "start_time": "2024-10-08T16:56:53.251837Z"
    }
   },
   "cell_type": "code",
   "source": [
    "# stage 3 data ingestion -- ML approach\n",
    "pub_dict = OrderedDict()\n",
    "\n",
    "for _, row in tilo_df.iterrows():\n",
    "    DOI = row['DOI']\n",
    "    # label = row['Predicted label'].strip(' [').strip(']')\n",
    "    label = row['Predicted label']\n",
    "    \n",
    "    # convert string to boolean value\n",
    "    # if label == 'True':\n",
    "    #     label = True\n",
    "    # elif label == 'False':\n",
    "    #     label = False\n",
    "    \n",
    "    if DOI not in pub_dict:\n",
    "        pub_dict[DOI] = {'citation_context': []}\n",
    "\n",
    "    pub_dict[DOI]['citation_context'].append({'sent': row['Citation context (sent)'], 'classification': label})"
   ],
   "id": "daf67ff5b641b369",
   "outputs": [],
   "execution_count": 138
  },
  {
   "metadata": {
    "ExecuteTime": {
     "end_time": "2024-10-08T16:56:53.286165Z",
     "start_time": "2024-10-08T16:56:53.284241Z"
    }
   },
   "cell_type": "code",
   "source": "row['Predicted label']",
   "id": "ad0691a96cc7ba2e",
   "outputs": [
    {
     "data": {
      "text/plain": [
       "False"
      ]
     },
     "execution_count": 139,
     "metadata": {},
     "output_type": "execute_result"
    }
   ],
   "execution_count": 139
  },
  {
   "metadata": {
    "ExecuteTime": {
     "end_time": "2024-10-08T16:56:53.317220Z",
     "start_time": "2024-10-08T16:56:53.314968Z"
    }
   },
   "cell_type": "code",
   "source": [
    "pub_decision_l = []\n",
    "pub_doi_l = []\n",
    "pub_rationale_l = []\n",
    "\n",
    "for key, value in pub_dict.items():\n",
    "    \n",
    "    pub_doi_l.append(key)\n",
    "    boolean_value_l = [x['classification'] for x in value['citation_context']]\n",
    "    boolean_sum = sum(boolean_value_l)\n",
    "    \n",
    "    if boolean_sum > 0:\n",
    "        pub_decision_l.append('high risk')\n",
    "        pub_rationale_l.append(f'One or more citation contexts classified as at risk by the machine learning model')\n",
    "    else:\n",
    "        pub_decision_l.append('negligible risk')\n",
    "        pub_rationale_l.append(f'No citation context classified as at risk by the machine learning model')"
   ],
   "id": "9bf0f63e2819c85b",
   "outputs": [],
   "execution_count": 140
  },
  {
   "metadata": {
    "ExecuteTime": {
     "end_time": "2024-10-08T16:56:53.332750Z",
     "start_time": "2024-10-08T16:56:53.330922Z"
    }
   },
   "cell_type": "code",
   "source": [
    "Tilo_decision_df = pd.DataFrame({'DOI': pub_doi_l,\n",
    "                     'decision': pub_decision_l,\n",
    "                     'rationale': pub_rationale_l,\n",
    "                     'stage': '3'})"
   ],
   "id": "19aae8128ca2e106",
   "outputs": [],
   "execution_count": 141
  },
  {
   "metadata": {},
   "cell_type": "markdown",
   "source": "### output results as decision_df_tio.csv",
   "id": "f4e58876faf5a502"
  },
  {
   "metadata": {
    "ExecuteTime": {
     "end_time": "2024-10-08T16:56:53.348009Z",
     "start_time": "2024-10-08T16:56:53.345714Z"
    }
   },
   "cell_type": "code",
   "source": "Tilo_decision_df.to_csv('decision_tree_output/decision_df_ml.csv', index=False, encoding='utf-8-sig')",
   "id": "2086cd85949a478a",
   "outputs": [],
   "execution_count": 142
  }
 ],
 "metadata": {
  "kernelspec": {
   "display_name": "Python 3",
   "language": "python",
   "name": "python3"
  },
  "language_info": {
   "codemirror_mode": {
    "name": "ipython",
    "version": 2
   },
   "file_extension": ".py",
   "mimetype": "text/x-python",
   "name": "python",
   "nbconvert_exporter": "python",
   "pygments_lexer": "ipython2",
   "version": "2.7.6"
  }
 },
 "nbformat": 4,
 "nbformat_minor": 5
}
