{
 "cells": [
  {
   "cell_type": "code",
   "id": "initial_id",
   "metadata": {
    "collapsed": true,
    "ExecuteTime": {
     "end_time": "2024-10-08T14:57:29.786234Z",
     "start_time": "2024-10-08T14:57:23.641282Z"
    }
   },
   "source": [
    "import pandas as pd\n",
    "from helpers import *\n",
    "import os"
   ],
   "outputs": [],
   "execution_count": 1
  },
  {
   "metadata": {
    "ExecuteTime": {
     "end_time": "2024-10-08T14:57:29.794129Z",
     "start_time": "2024-10-08T14:57:29.792038Z"
    }
   },
   "cell_type": "code",
   "source": "decision_df = pd.DataFrame(columns=['DOI', 'decision', 'rationale', 'stage'])",
   "id": "3429051592dfbf89",
   "outputs": [],
   "execution_count": 2
  },
  {
   "metadata": {
    "ExecuteTime": {
     "end_time": "2024-10-08T14:57:29.797552Z",
     "start_time": "2024-10-08T14:57:29.796191Z"
    }
   },
   "cell_type": "code",
   "source": "NUM_OF_PUB = 284",
   "id": "5df42f18e32cc5e1",
   "outputs": [],
   "execution_count": 3
  },
  {
   "metadata": {
    "ExecuteTime": {
     "end_time": "2024-10-08T14:57:29.801125Z",
     "start_time": "2024-10-08T14:57:29.799658Z"
    }
   },
   "cell_type": "code",
   "source": [
    "OUTPUT = 'decision_tree_output'\n",
    "if not os.path.exists(OUTPUT):\n",
    "    os.makedirs(OUTPUT)"
   ],
   "id": "c8b0469ae08be903",
   "outputs": [],
   "execution_count": 4
  },
  {
   "metadata": {
    "ExecuteTime": {
     "end_time": "2024-10-08T14:57:29.837975Z",
     "start_time": "2024-10-08T14:57:29.836518Z"
    }
   },
   "cell_type": "code",
   "source": [
    "# file paths\n",
    "CITATION_CONTEXT_FILE_PARAGRAPH = 'decision_tree_input_data/metadata.csv'\n",
    "CITATION_CONTEXT_FILE_SENTENCE = 'decision_tree_input_data/citation_context_sentence.csv'\n",
    "KEYWORD_DICT_FILE = 'decision_tree_input_data/keyword_dictionary.csv'"
   ],
   "id": "3de102c489db32c5",
   "outputs": [],
   "execution_count": 5
  },
  {
   "metadata": {},
   "cell_type": "markdown",
   "source": "## Stage 1",
   "id": "f9c8da92a76ba12"
  },
  {
   "metadata": {
    "ExecuteTime": {
     "end_time": "2024-10-08T14:57:29.852445Z",
     "start_time": "2024-10-08T14:57:29.841662Z"
    }
   },
   "cell_type": "code",
   "source": [
    "data_raw = pd.read_csv(CITATION_CONTEXT_FILE_PARAGRAPH, nrows=401)\n",
    "data = dataset_socket(data_raw)\n",
    "data_s1 = dataset_socket(data_raw)\n",
    "data_s1.drop(columns=['citation_marker','paragraph', 'section'], inplace=True)\n",
    "data_s1.drop_duplicates(inplace=True)"
   ],
   "id": "8200639297b6b301",
   "outputs": [],
   "execution_count": 6
  },
  {
   "metadata": {
    "ExecuteTime": {
     "end_time": "2024-10-08T14:57:29.869974Z",
     "start_time": "2024-10-08T14:57:29.868404Z"
    }
   },
   "cell_type": "code",
   "source": "assert data_s1.shape[0] == NUM_OF_PUB # should be 284",
   "id": "63105d606199ac7f",
   "outputs": [],
   "execution_count": 7
  },
  {
   "metadata": {
    "ExecuteTime": {
     "end_time": "2024-10-08T14:57:29.904570Z",
     "start_time": "2024-10-08T14:57:29.902532Z"
    }
   },
   "cell_type": "code",
   "source": "Q1_out = data_s1.loc[(data_s1['Q1 - Review article? (WoS)'] == 'y') | (data_s1['Q1 - Review article? (Scopus)'] == 'y')]",
   "id": "ac8dab7d1eba8fb8",
   "outputs": [],
   "execution_count": 8
  },
  {
   "metadata": {
    "ExecuteTime": {
     "end_time": "2024-10-08T14:57:29.921608Z",
     "start_time": "2024-10-08T14:57:29.919862Z"
    }
   },
   "cell_type": "code",
   "source": "print(f'Q1 triage out {Q1_out.shape[0]} ({int(Q1_out.shape[0]/NUM_OF_PUB*100)}%) articles')",
   "id": "7cc68764b308fafc",
   "outputs": [
    {
     "name": "stdout",
     "output_type": "stream",
     "text": [
      "Q1 triage out 31 (10%) articles\n"
     ]
    }
   ],
   "execution_count": 9
  },
  {
   "metadata": {
    "ExecuteTime": {
     "end_time": "2024-10-08T14:57:29.939560Z",
     "start_time": "2024-10-08T14:57:29.937462Z"
    }
   },
   "cell_type": "code",
   "source": [
    "temp = pd.DataFrame({'DOI': Q1_out['DOI'],\n",
    "                     'decision': 'negligible risk',\n",
    "                     'rationale': 'This paper is a review',\n",
    "                     'stage': '1'})\n",
    "decision_df = pd.concat((decision_df, temp), axis=0).reset_index()"
   ],
   "id": "a7e7ae31793c1216",
   "outputs": [],
   "execution_count": 10
  },
  {
   "metadata": {
    "ExecuteTime": {
     "end_time": "2024-10-08T14:57:29.966096Z",
     "start_time": "2024-10-08T14:57:29.962867Z"
    }
   },
   "cell_type": "code",
   "source": [
    "data_s1.drop(inplace=True, labels=Q1_out.index)\n",
    "data_s1.shape"
   ],
   "id": "9368cdd4cc730973",
   "outputs": [
    {
     "data": {
      "text/plain": [
       "(253, 5)"
      ]
     },
     "execution_count": 11,
     "metadata": {},
     "output_type": "execute_result"
    }
   ],
   "execution_count": 11
  },
  {
   "metadata": {
    "ExecuteTime": {
     "end_time": "2024-10-08T14:57:31.057968Z",
     "start_time": "2024-10-08T14:57:31.055269Z"
    }
   },
   "cell_type": "code",
   "source": "Q2_out = data_s1.loc[(data_s1['Q2 - Addendum or Neupane? (WoS)'] == 'y') | (data_s1['Q2 - Addendum or Neupane? (Scopus)'] == 'y'),]",
   "id": "a67cf9e468e7126e",
   "outputs": [],
   "execution_count": 12
  },
  {
   "metadata": {
    "ExecuteTime": {
     "end_time": "2024-10-08T14:57:31.824778Z",
     "start_time": "2024-10-08T14:57:31.822542Z"
    }
   },
   "cell_type": "code",
   "source": "print(f'Q2 triage out {Q2_out.shape[0]} ({int(Q2_out.shape[0]/NUM_OF_PUB*100)}%) articles')",
   "id": "3ebd756ddc438f09",
   "outputs": [
    {
     "name": "stdout",
     "output_type": "stream",
     "text": [
      "Q2 triage out 13 (4%) articles\n"
     ]
    }
   ],
   "execution_count": 13
  },
  {
   "metadata": {
    "ExecuteTime": {
     "end_time": "2024-10-08T14:57:32.707160Z",
     "start_time": "2024-10-08T14:57:32.703298Z"
    }
   },
   "cell_type": "code",
   "source": [
    "temp = pd.DataFrame({'DOI': Q2_out['DOI'],\n",
    "                     'decision': 'negligible risk',\n",
    "                     'rationale': 'This paper cited Addendum or Neupane et al. 2019',\n",
    "                     'stage': '1'})\n",
    "decision_df = pd.concat((decision_df, temp), axis=0).reset_index(drop=True)"
   ],
   "id": "77bd058cd2843b17",
   "outputs": [],
   "execution_count": 14
  },
  {
   "metadata": {
    "ExecuteTime": {
     "end_time": "2024-10-08T14:57:33.493486Z",
     "start_time": "2024-10-08T14:57:33.490753Z"
    }
   },
   "cell_type": "code",
   "source": "data_s1.drop(inplace=True, labels=Q2_out.index)",
   "id": "5f6241183a017beb",
   "outputs": [],
   "execution_count": 15
  },
  {
   "metadata": {
    "ExecuteTime": {
     "end_time": "2024-10-08T14:57:35.030963Z",
     "start_time": "2024-10-08T14:57:35.028185Z"
    }
   },
   "cell_type": "code",
   "source": "data_s1.shape",
   "id": "75773152071e8703",
   "outputs": [
    {
     "data": {
      "text/plain": [
       "(240, 5)"
      ]
     },
     "execution_count": 16,
     "metadata": {},
     "output_type": "execute_result"
    }
   ],
   "execution_count": 16
  },
  {
   "metadata": {
    "ExecuteTime": {
     "end_time": "2024-10-08T14:57:36.025629Z",
     "start_time": "2024-10-08T14:57:36.023421Z"
    }
   },
   "cell_type": "code",
   "source": [
    "num_triage_out = len(decision_df)\n",
    "print(f'Stage 1 triage out {num_triage_out} ({int(num_triage_out/NUM_OF_PUB*100)}%) articles')"
   ],
   "id": "a52c1e7094ffc4f0",
   "outputs": [
    {
     "name": "stdout",
     "output_type": "stream",
     "text": [
      "Stage 1 triage out 44 (15%) articles\n"
     ]
    }
   ],
   "execution_count": 17
  },
  {
   "metadata": {},
   "cell_type": "markdown",
   "source": "## Stage 2",
   "id": "e0479fb1ab814089"
  },
  {
   "metadata": {
    "ExecuteTime": {
     "end_time": "2024-10-08T14:57:38.026884Z",
     "start_time": "2024-10-08T14:57:38.022212Z"
    }
   },
   "cell_type": "code",
   "source": [
    "data_s2 = data.merge(data_s1['DOI'], on='DOI', how='right')\n",
    "data_s2.shape"
   ],
   "id": "a9786b6474e43b51",
   "outputs": [
    {
     "data": {
      "text/plain": [
       "(335, 8)"
      ]
     },
     "execution_count": 18,
     "metadata": {},
     "output_type": "execute_result"
    }
   ],
   "execution_count": 18
  },
  {
   "metadata": {
    "ExecuteTime": {
     "end_time": "2024-10-08T14:57:39.123994Z",
     "start_time": "2024-10-08T14:57:39.121336Z"
    }
   },
   "cell_type": "code",
   "source": "assert len(set(data_s2['DOI'].to_list())) == 240 # check whether the merge is correct",
   "id": "2982ff6238f8919d",
   "outputs": [],
   "execution_count": 19
  },
  {
   "metadata": {
    "ExecuteTime": {
     "end_time": "2024-10-08T14:57:39.580835Z",
     "start_time": "2024-10-08T14:57:39.574858Z"
    }
   },
   "cell_type": "code",
   "source": "pub_dict = data_ingestion_s2(data_s2)",
   "id": "1d4ea56eff1e0162",
   "outputs": [],
   "execution_count": 20
  },
  {
   "metadata": {
    "ExecuteTime": {
     "end_time": "2024-10-08T14:57:39.952928Z",
     "start_time": "2024-10-08T14:57:39.950990Z"
    }
   },
   "cell_type": "code",
   "source": [
    "pub_doi_l = []\n",
    "pub_decision_l = []\n",
    "for key, value in pub_dict.items():\n",
    "    pub_doi_l.append(key)\n",
    "    pub_decision_l.append(is_only_in_introduction(value))"
   ],
   "id": "8051238df814a8f2",
   "outputs": [],
   "execution_count": 21
  },
  {
   "metadata": {
    "ExecuteTime": {
     "end_time": "2024-10-08T14:57:40.487925Z",
     "start_time": "2024-10-08T14:57:40.485814Z"
    }
   },
   "cell_type": "code",
   "source": [
    "Q3_out = pd.DataFrame({'DOI': pub_doi_l,\n",
    "                       'Is only in introduction': pub_decision_l})\n",
    "Q3_out = Q3_out[Q3_out['Is only in introduction'] == True]"
   ],
   "id": "31cb18a9453f5315",
   "outputs": [],
   "execution_count": 22
  },
  {
   "metadata": {
    "ExecuteTime": {
     "end_time": "2024-10-08T14:57:41.073727Z",
     "start_time": "2024-10-08T14:57:41.072019Z"
    }
   },
   "cell_type": "code",
   "source": "print(f'Q3 triage out {Q3_out.shape[0]} ({int(Q3_out.shape[0]/NUM_OF_PUB*100)}%) articles')",
   "id": "a1513596bb765004",
   "outputs": [
    {
     "name": "stdout",
     "output_type": "stream",
     "text": [
      "Q3 triage out 37 (13%) articles\n"
     ]
    }
   ],
   "execution_count": 23
  },
  {
   "metadata": {
    "ExecuteTime": {
     "end_time": "2024-10-08T14:57:41.526311Z",
     "start_time": "2024-10-08T14:57:41.523860Z"
    }
   },
   "cell_type": "code",
   "source": [
    "temp = pd.DataFrame({'DOI': Q3_out['DOI'],\n",
    "                     'decision': 'negligible risk',\n",
    "                     'rationale': 'Citations only appear in the introduction section',\n",
    "                     'stage': '2'})\n",
    "decision_df = pd.concat((decision_df, temp), axis=0).reset_index(drop=True)\n",
    "num_triage_out = len(decision_df) - num_triage_out"
   ],
   "id": "e3bb93a7051d1eb1",
   "outputs": [],
   "execution_count": 24
  },
  {
   "metadata": {
    "ExecuteTime": {
     "end_time": "2024-10-08T14:57:42.574703Z",
     "start_time": "2024-10-08T14:57:42.572310Z"
    }
   },
   "cell_type": "code",
   "source": "print(f'Stage 2 triage out {num_triage_out} ({int(num_triage_out/NUM_OF_PUB*100)}%) articles')",
   "id": "afc21dd35bb9653f",
   "outputs": [
    {
     "name": "stdout",
     "output_type": "stream",
     "text": [
      "Stage 2 triage out 37 (13%) articles\n"
     ]
    }
   ],
   "execution_count": 25
  },
  {
   "metadata": {
    "ExecuteTime": {
     "end_time": "2024-10-08T14:57:43.989277Z",
     "start_time": "2024-10-08T14:57:43.986948Z"
    }
   },
   "cell_type": "code",
   "source": "print(f'Still {NUM_OF_PUB - len(decision_df)} articles to triage') # remaining articles",
   "id": "235c79f0dbbaf32a",
   "outputs": [
    {
     "name": "stdout",
     "output_type": "stream",
     "text": [
      "Still 203 articles to triage\n"
     ]
    }
   ],
   "execution_count": 26
  },
  {
   "metadata": {},
   "cell_type": "markdown",
   "source": "## Stage 3 Keyword Approach",
   "id": "e0944608ed511a53"
  },
  {
   "metadata": {
    "ExecuteTime": {
     "end_time": "2024-10-08T14:57:48.816512Z",
     "start_time": "2024-10-08T14:57:48.812022Z"
    }
   },
   "cell_type": "code",
   "source": [
    "cc_df = pd.read_csv(CITATION_CONTEXT_FILE_SENTENCE, encoding='utf-8')\n",
    "# cc_df = pd.read_csv('data/citation_context_Yuanxi_updated_trimmed.csv', encoding='utf-8')"
   ],
   "id": "ca64cce44d53a2d0",
   "outputs": [],
   "execution_count": 27
  },
  {
   "metadata": {
    "ExecuteTime": {
     "end_time": "2024-10-08T14:57:49.774647Z",
     "start_time": "2024-10-08T14:57:49.771841Z"
    }
   },
   "cell_type": "code",
   "source": "cc_df['DOI'] = cc_df['DOI'].apply(clean)",
   "id": "6e9cd37b486d0896",
   "outputs": [],
   "execution_count": 28
  },
  {
   "metadata": {
    "ExecuteTime": {
     "end_time": "2024-10-08T14:57:50.489255Z",
     "start_time": "2024-10-08T14:57:50.486928Z"
    }
   },
   "cell_type": "code",
   "source": "assert len(set(cc_df['DOI'].to_list())) == 203 # test whether the merge was correct",
   "id": "c05cb8d86fd17839",
   "outputs": [],
   "execution_count": 29
  },
  {
   "metadata": {
    "ExecuteTime": {
     "end_time": "2024-10-08T14:57:51.014337Z",
     "start_time": "2024-10-08T14:57:51.008126Z"
    }
   },
   "cell_type": "code",
   "source": [
    "# stage 3 data ingestion -- keyword approach\n",
    "pub_dict = OrderedDict()\n",
    "\n",
    "for _, row in cc_df.iterrows():\n",
    "    DOI = row['DOI']\n",
    "\n",
    "    if DOI not in pub_dict:\n",
    "        pub_dict[DOI] = {'citation_context': []}\n",
    "\n",
    "    pub_dict[DOI]['citation_context'].append({'sent': row['Citation context (sent)']})"
   ],
   "id": "bf61145850d983b9",
   "outputs": [],
   "execution_count": 30
  },
  {
   "metadata": {
    "ExecuteTime": {
     "end_time": "2024-10-08T14:57:52.980218Z",
     "start_time": "2024-10-08T14:57:52.975029Z"
    }
   },
   "cell_type": "code",
   "source": "keyword_dict = keyword_dict_construction(KEYWORD_DICT_FILE)",
   "id": "494a10ec0af77fe9",
   "outputs": [],
   "execution_count": 31
  },
  {
   "metadata": {
    "ExecuteTime": {
     "end_time": "2024-10-08T14:57:53.556037Z",
     "start_time": "2024-10-08T14:57:53.547893Z"
    }
   },
   "cell_type": "code",
   "source": [
    "pub_doi_l = []\n",
    "pub_decision_l = []\n",
    "pub_rationale_l = []\n",
    "\n",
    "for key, value in pub_dict.items():\n",
    "    detection_dict = keyword_detection(value, keyword_dict) \n",
    "    pub_doi_l.append(key)\n",
    "    \n",
    "    if len(detection_dict['elevating']) > 0:\n",
    "        pub_decision_l.append('high risk')\n",
    "        pub_rationale_l.append(f'Contain risk-elevating keyword {detection_dict[\"elevating\"]}')\n",
    "                               \n",
    "    elif detection_dict['all_reducing']:\n",
    "        pub_decision_l.append('negligible risk')\n",
    "        pub_rationale_l.append('All citation contexts contain risk-reducing keywords')\n",
    "    else:\n",
    "        pub_decision_l.append('medium risk')\n",
    "        pub_rationale_l.append('neither risk-elevating nor risk-reducing attributes detected ')\n",
    "        "
   ],
   "id": "f6c93d0985235cbf",
   "outputs": [],
   "execution_count": 32
  },
  {
   "metadata": {
    "ExecuteTime": {
     "end_time": "2024-10-08T14:57:55.054166Z",
     "start_time": "2024-10-08T14:57:55.049875Z"
    }
   },
   "cell_type": "code",
   "source": [
    "temp = pd.DataFrame({'DOI': pub_doi_l,\n",
    "                     'decision': pub_decision_l,\n",
    "                     'rationale': pub_rationale_l,\n",
    "                     'stage': '3'})\n",
    "decision_df_keywords = pd.concat((decision_df, temp), axis=0).reset_index(drop=True)\n",
    "decision_df_keywords.shape"
   ],
   "id": "5586492ad6b26cab",
   "outputs": [
    {
     "data": {
      "text/plain": [
       "(284, 5)"
      ]
     },
     "execution_count": 33,
     "metadata": {},
     "output_type": "execute_result"
    }
   ],
   "execution_count": 33
  },
  {
   "metadata": {
    "ExecuteTime": {
     "end_time": "2024-10-08T14:57:58.940327Z",
     "start_time": "2024-10-08T14:57:58.938379Z"
    }
   },
   "cell_type": "code",
   "source": [
    "num_triage_out = pub_decision_l.count('negligible risk')\n",
    "print(f'Stage 3 with the keyword approach triage out {num_triage_out} ({int(num_triage_out/NUM_OF_PUB*100)}%) articles')"
   ],
   "id": "2e5f91f2633d874",
   "outputs": [
    {
     "name": "stdout",
     "output_type": "stream",
     "text": [
      "Stage 3 with the keyword approach triage out 50 (17%) articles\n"
     ]
    }
   ],
   "execution_count": 34
  },
  {
   "metadata": {
    "ExecuteTime": {
     "end_time": "2024-10-08T14:58:02.502488Z",
     "start_time": "2024-10-08T14:58:02.500081Z"
    }
   },
   "cell_type": "code",
   "source": "assert decision_df_keywords.shape[0] == NUM_OF_PUB",
   "id": "21941535a6118bf6",
   "outputs": [],
   "execution_count": 35
  },
  {
   "metadata": {},
   "cell_type": "markdown",
   "source": "### Output results as decision_df_keywords.csv",
   "id": "368a42b73273df2f"
  },
  {
   "metadata": {
    "ExecuteTime": {
     "end_time": "2024-10-08T14:58:19.159188Z",
     "start_time": "2024-10-08T14:58:19.155304Z"
    }
   },
   "cell_type": "code",
   "source": "decision_df_keywords.drop(columns=['index']).to_csv('decision_tree_output/decision_df_keywords.csv', index=False, encoding='utf-8-sig')",
   "id": "5061ae1f222bac9e",
   "outputs": [],
   "execution_count": 38
  },
  {
   "metadata": {
    "ExecuteTime": {
     "end_time": "2024-10-08T14:58:20.464340Z",
     "start_time": "2024-10-08T14:58:20.461684Z"
    }
   },
   "cell_type": "code",
   "source": "assert len(set(decision_df_keywords['DOI'].to_list())) == NUM_OF_PUB",
   "id": "c24d83337a886a5f",
   "outputs": [],
   "execution_count": 39
  },
  {
   "metadata": {
    "ExecuteTime": {
     "end_time": "2024-10-08T14:58:21.052258Z",
     "start_time": "2024-10-08T14:58:21.048254Z"
    }
   },
   "cell_type": "code",
   "source": "decision_df_keywords.head()",
   "id": "a4828e0b4254e8ea",
   "outputs": [
    {
     "data": {
      "text/plain": [
       "   index                     DOI         decision               rationale  \\\n",
       "0   10.0  10.1002/chem.201601150  negligible risk  This paper is a review   \n",
       "1   15.0  10.1002/chem.202004790  negligible risk  This paper is a review   \n",
       "2   36.0        10.1002/mrc.4989  negligible risk  This paper is a review   \n",
       "3   39.0        10.1002/mrc.5234  negligible risk  This paper is a review   \n",
       "4   41.0        10.1002/mrc.5260  negligible risk  This paper is a review   \n",
       "\n",
       "  stage  \n",
       "0     1  \n",
       "1     1  \n",
       "2     1  \n",
       "3     1  \n",
       "4     1  "
      ],
      "text/html": [
       "<div>\n",
       "<style scoped>\n",
       "    .dataframe tbody tr th:only-of-type {\n",
       "        vertical-align: middle;\n",
       "    }\n",
       "\n",
       "    .dataframe tbody tr th {\n",
       "        vertical-align: top;\n",
       "    }\n",
       "\n",
       "    .dataframe thead th {\n",
       "        text-align: right;\n",
       "    }\n",
       "</style>\n",
       "<table border=\"1\" class=\"dataframe\">\n",
       "  <thead>\n",
       "    <tr style=\"text-align: right;\">\n",
       "      <th></th>\n",
       "      <th>index</th>\n",
       "      <th>DOI</th>\n",
       "      <th>decision</th>\n",
       "      <th>rationale</th>\n",
       "      <th>stage</th>\n",
       "    </tr>\n",
       "  </thead>\n",
       "  <tbody>\n",
       "    <tr>\n",
       "      <th>0</th>\n",
       "      <td>10.0</td>\n",
       "      <td>10.1002/chem.201601150</td>\n",
       "      <td>negligible risk</td>\n",
       "      <td>This paper is a review</td>\n",
       "      <td>1</td>\n",
       "    </tr>\n",
       "    <tr>\n",
       "      <th>1</th>\n",
       "      <td>15.0</td>\n",
       "      <td>10.1002/chem.202004790</td>\n",
       "      <td>negligible risk</td>\n",
       "      <td>This paper is a review</td>\n",
       "      <td>1</td>\n",
       "    </tr>\n",
       "    <tr>\n",
       "      <th>2</th>\n",
       "      <td>36.0</td>\n",
       "      <td>10.1002/mrc.4989</td>\n",
       "      <td>negligible risk</td>\n",
       "      <td>This paper is a review</td>\n",
       "      <td>1</td>\n",
       "    </tr>\n",
       "    <tr>\n",
       "      <th>3</th>\n",
       "      <td>39.0</td>\n",
       "      <td>10.1002/mrc.5234</td>\n",
       "      <td>negligible risk</td>\n",
       "      <td>This paper is a review</td>\n",
       "      <td>1</td>\n",
       "    </tr>\n",
       "    <tr>\n",
       "      <th>4</th>\n",
       "      <td>41.0</td>\n",
       "      <td>10.1002/mrc.5260</td>\n",
       "      <td>negligible risk</td>\n",
       "      <td>This paper is a review</td>\n",
       "      <td>1</td>\n",
       "    </tr>\n",
       "  </tbody>\n",
       "</table>\n",
       "</div>"
      ]
     },
     "execution_count": 40,
     "metadata": {},
     "output_type": "execute_result"
    }
   ],
   "execution_count": 40
  },
  {
   "metadata": {},
   "cell_type": "markdown",
   "source": "## Stage 3 Machine Learning Approach",
   "id": "c85777f87e6c2da8"
  },
  {
   "metadata": {
    "ExecuteTime": {
     "end_time": "2024-10-08T14:58:46.511062Z",
     "start_time": "2024-10-08T14:58:46.506709Z"
    }
   },
   "cell_type": "code",
   "source": "tilo_df = pd.read_csv('decision_tree_input_data/LSTM_prediction_203.csv')",
   "id": "2ebd0cb1b423b822",
   "outputs": [],
   "execution_count": 41
  },
  {
   "metadata": {
    "ExecuteTime": {
     "end_time": "2024-10-08T14:58:47.719012Z",
     "start_time": "2024-10-08T14:58:47.714673Z"
    }
   },
   "cell_type": "code",
   "source": "tilo_df.head()",
   "id": "d1302c6f472e4670",
   "outputs": [
    {
     "data": {
      "text/plain": [
       "  CC_ID                     DOI  \\\n",
       "0   CC1  10.1002/anie.201706532   \n",
       "1   CC2  10.1002/anie.201708266   \n",
       "2   CC3  10.1002/anie.201708266   \n",
       "3   CC4  10.1002/anie.201810566   \n",
       "4   CC5  10.1002/anie.201902777   \n",
       "\n",
       "                             Citation context (sent)  \\\n",
       "0  The validity of structure 5 was confirmed by D...   \n",
       "1  To the best of our knowledge, such a composite...   \n",
       "2  Taking a Boltzmann average of NMR parameters c...   \n",
       "3  To resolve this ambiguity, we conducted NMR pr...   \n",
       "4  There are now numerous in silico methods to he...   \n",
       "\n",
       "  Citation context level annotation  Predicted label  \n",
       "0                                 Y             True  \n",
       "1                                 N            False  \n",
       "2                                 N            False  \n",
       "3                                 Y             True  \n",
       "4                                 N            False  "
      ],
      "text/html": [
       "<div>\n",
       "<style scoped>\n",
       "    .dataframe tbody tr th:only-of-type {\n",
       "        vertical-align: middle;\n",
       "    }\n",
       "\n",
       "    .dataframe tbody tr th {\n",
       "        vertical-align: top;\n",
       "    }\n",
       "\n",
       "    .dataframe thead th {\n",
       "        text-align: right;\n",
       "    }\n",
       "</style>\n",
       "<table border=\"1\" class=\"dataframe\">\n",
       "  <thead>\n",
       "    <tr style=\"text-align: right;\">\n",
       "      <th></th>\n",
       "      <th>CC_ID</th>\n",
       "      <th>DOI</th>\n",
       "      <th>Citation context (sent)</th>\n",
       "      <th>Citation context level annotation</th>\n",
       "      <th>Predicted label</th>\n",
       "    </tr>\n",
       "  </thead>\n",
       "  <tbody>\n",
       "    <tr>\n",
       "      <th>0</th>\n",
       "      <td>CC1</td>\n",
       "      <td>10.1002/anie.201706532</td>\n",
       "      <td>The validity of structure 5 was confirmed by D...</td>\n",
       "      <td>Y</td>\n",
       "      <td>True</td>\n",
       "    </tr>\n",
       "    <tr>\n",
       "      <th>1</th>\n",
       "      <td>CC2</td>\n",
       "      <td>10.1002/anie.201708266</td>\n",
       "      <td>To the best of our knowledge, such a composite...</td>\n",
       "      <td>N</td>\n",
       "      <td>False</td>\n",
       "    </tr>\n",
       "    <tr>\n",
       "      <th>2</th>\n",
       "      <td>CC3</td>\n",
       "      <td>10.1002/anie.201708266</td>\n",
       "      <td>Taking a Boltzmann average of NMR parameters c...</td>\n",
       "      <td>N</td>\n",
       "      <td>False</td>\n",
       "    </tr>\n",
       "    <tr>\n",
       "      <th>3</th>\n",
       "      <td>CC4</td>\n",
       "      <td>10.1002/anie.201810566</td>\n",
       "      <td>To resolve this ambiguity, we conducted NMR pr...</td>\n",
       "      <td>Y</td>\n",
       "      <td>True</td>\n",
       "    </tr>\n",
       "    <tr>\n",
       "      <th>4</th>\n",
       "      <td>CC5</td>\n",
       "      <td>10.1002/anie.201902777</td>\n",
       "      <td>There are now numerous in silico methods to he...</td>\n",
       "      <td>N</td>\n",
       "      <td>False</td>\n",
       "    </tr>\n",
       "  </tbody>\n",
       "</table>\n",
       "</div>"
      ]
     },
     "execution_count": 42,
     "metadata": {},
     "output_type": "execute_result"
    }
   ],
   "execution_count": 42
  },
  {
   "metadata": {
    "ExecuteTime": {
     "end_time": "2024-10-08T14:58:48.836166Z",
     "start_time": "2024-10-08T14:58:48.826628Z"
    }
   },
   "cell_type": "code",
   "source": [
    "# stage 3 data ingestion -- ML approach\n",
    "pub_dict = OrderedDict()\n",
    "\n",
    "for _, row in tilo_df.iterrows():\n",
    "    DOI = row['DOI']\n",
    "    # label = row['Predicted label'].strip(' [').strip(']')\n",
    "    label = row['Predicted label']\n",
    "    \n",
    "    # convert string to boolean value\n",
    "    # if label == 'True':\n",
    "    #     label = True\n",
    "    # elif label == 'False':\n",
    "    #     label = False\n",
    "    \n",
    "    if DOI not in pub_dict:\n",
    "        pub_dict[DOI] = {'citation_context': []}\n",
    "\n",
    "    pub_dict[DOI]['citation_context'].append({'sent': row['Citation context (sent)'], 'classification': label})"
   ],
   "id": "daf67ff5b641b369",
   "outputs": [],
   "execution_count": 43
  },
  {
   "metadata": {
    "ExecuteTime": {
     "end_time": "2024-10-08T14:58:49.588704Z",
     "start_time": "2024-10-08T14:58:49.586066Z"
    }
   },
   "cell_type": "code",
   "source": "row['Predicted label']",
   "id": "ad0691a96cc7ba2e",
   "outputs": [
    {
     "data": {
      "text/plain": [
       "False"
      ]
     },
     "execution_count": 44,
     "metadata": {},
     "output_type": "execute_result"
    }
   ],
   "execution_count": 44
  },
  {
   "metadata": {
    "ExecuteTime": {
     "end_time": "2024-10-08T14:58:50.120045Z",
     "start_time": "2024-10-08T14:58:50.117798Z"
    }
   },
   "cell_type": "code",
   "source": [
    "pub_decision_l = []\n",
    "pub_doi_l = []\n",
    "pub_rationale_l = []\n",
    "\n",
    "for key, value in pub_dict.items():\n",
    "    \n",
    "    pub_doi_l.append(key)\n",
    "    boolean_value_l = [x['classification'] for x in value['citation_context']]\n",
    "    boolean_sum = sum(boolean_value_l)\n",
    "    \n",
    "    if boolean_sum > 0:\n",
    "        pub_decision_l.append('high risk')\n",
    "        pub_rationale_l.append(f'One or more citation contexts classified as at risk by the machine learning model')\n",
    "    else:\n",
    "        pub_decision_l.append('negligible risk')\n",
    "        pub_rationale_l.append(f'No citation context classified as at risk by the machine learning model')"
   ],
   "id": "9bf0f63e2819c85b",
   "outputs": [],
   "execution_count": 45
  },
  {
   "metadata": {
    "ExecuteTime": {
     "end_time": "2024-10-08T14:58:51.266165Z",
     "start_time": "2024-10-08T14:58:51.263851Z"
    }
   },
   "cell_type": "code",
   "source": [
    "Tilo_decision_df = pd.DataFrame({'DOI': pub_doi_l,\n",
    "                     'decision': pub_decision_l,\n",
    "                     'rationale': pub_rationale_l,\n",
    "                     'stage': '3'})"
   ],
   "id": "19aae8128ca2e106",
   "outputs": [],
   "execution_count": 46
  },
  {
   "metadata": {},
   "cell_type": "markdown",
   "source": "### output results as decision_df_tio.csv",
   "id": "f4e58876faf5a502"
  },
  {
   "metadata": {
    "ExecuteTime": {
     "end_time": "2024-09-22T21:36:35.271679Z",
     "start_time": "2024-09-22T21:36:35.253403Z"
    }
   },
   "cell_type": "code",
   "source": "Tilo_decision_df.to_csv('decision_tree_output/decision_df_tilo.csv', index=False, encoding='utf-8-sig')",
   "id": "2086cd85949a478a",
   "outputs": [],
   "execution_count": 184
  }
 ],
 "metadata": {
  "kernelspec": {
   "display_name": "Python 3",
   "language": "python",
   "name": "python3"
  },
  "language_info": {
   "codemirror_mode": {
    "name": "ipython",
    "version": 2
   },
   "file_extension": ".py",
   "mimetype": "text/x-python",
   "name": "python",
   "nbconvert_exporter": "python",
   "pygments_lexer": "ipython2",
   "version": "2.7.6"
  }
 },
 "nbformat": 4,
 "nbformat_minor": 5
}
