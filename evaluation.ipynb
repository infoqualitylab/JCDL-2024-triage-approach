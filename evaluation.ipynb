{
 "cells": [
  {
   "cell_type": "code",
   "id": "initial_id",
   "metadata": {
    "collapsed": true,
    "ExecuteTime": {
     "end_time": "2024-08-15T16:04:17.722465Z",
     "start_time": "2024-08-15T16:04:17.120097Z"
    }
   },
   "source": [
    "import pandas as pd\n",
    "from helpers import *\n",
    "import os\n",
    "from collections import Counter"
   ],
   "outputs": [],
   "execution_count": 1
  },
  {
   "metadata": {
    "ExecuteTime": {
     "end_time": "2024-08-15T16:04:17.753077Z",
     "start_time": "2024-08-15T16:04:17.728637Z"
    }
   },
   "cell_type": "code",
   "source": "NUM_OF_PUB = 284",
   "id": "c5b77c7365ac2987",
   "outputs": [],
   "execution_count": 2
  },
  {
   "metadata": {
    "ExecuteTime": {
     "end_time": "2024-08-15T16:04:17.768008Z",
     "start_time": "2024-08-15T16:04:17.756479Z"
    }
   },
   "cell_type": "code",
   "source": [
    "OUTPUT = 'eval_output'\n",
    "if not os.path.exists(OUTPUT):\n",
    "    os.makedirs(OUTPUT)"
   ],
   "id": "911045b06fb9decd",
   "outputs": [],
   "execution_count": 3
  },
  {
   "metadata": {
    "ExecuteTime": {
     "end_time": "2024-08-15T16:04:17.784755Z",
     "start_time": "2024-08-15T16:04:17.771009Z"
    }
   },
   "cell_type": "code",
   "source": [
    "# file path: update if needed\n",
    "DECISION_KEYWORD_FILE = 'output/decision_df_keywords.csv'\n",
    "ANNOTATION_FILE = 'data/Annotation_JCDL2024_YF.xlsx'\n",
    "DECISION_ML_FILE = 'output/decision_df_tilo.csv'\n",
    "OUTFILE_PATH = 'eval_output/performance_metrics.tsv'"
   ],
   "id": "d2eb9edfcffd28fb",
   "outputs": [],
   "execution_count": 4
  },
  {
   "metadata": {},
   "cell_type": "markdown",
   "source": "## Evaluate decisions made by the keyword approach versus the silver standard",
   "id": "577aa166b93af4ec"
  },
  {
   "metadata": {
    "ExecuteTime": {
     "end_time": "2024-08-15T16:04:18.171835Z",
     "start_time": "2024-08-15T16:04:17.794314Z"
    }
   },
   "cell_type": "code",
   "source": [
    "decision_keyword = pd.read_csv(DECISION_KEYWORD_FILE)\n",
    "annotation = pd.read_excel(ANNOTATION_FILE, sheet_name='284')"
   ],
   "id": "4eb78149a7eab720",
   "outputs": [],
   "execution_count": 5
  },
  {
   "metadata": {
    "ExecuteTime": {
     "end_time": "2024-08-15T16:04:18.217839Z",
     "start_time": "2024-08-15T16:04:18.181945Z"
    }
   },
   "cell_type": "code",
   "source": "decision_keyword.head()",
   "id": "3b9881a9ff0d7d5c",
   "outputs": [
    {
     "data": {
      "text/plain": [
       "                      DOI         decision               rationale  stage\n",
       "0  10.1002/chem.201601150  negligible risk  This paper is a review      1\n",
       "1  10.1002/chem.202004790  negligible risk  This paper is a review      1\n",
       "2        10.1002/mrc.4989  negligible risk  This paper is a review      1\n",
       "3        10.1002/mrc.5234  negligible risk  This paper is a review      1\n",
       "4        10.1002/mrc.5260  negligible risk  This paper is a review      1"
      ],
      "text/html": [
       "<div>\n",
       "<style scoped>\n",
       "    .dataframe tbody tr th:only-of-type {\n",
       "        vertical-align: middle;\n",
       "    }\n",
       "\n",
       "    .dataframe tbody tr th {\n",
       "        vertical-align: top;\n",
       "    }\n",
       "\n",
       "    .dataframe thead th {\n",
       "        text-align: right;\n",
       "    }\n",
       "</style>\n",
       "<table border=\"1\" class=\"dataframe\">\n",
       "  <thead>\n",
       "    <tr style=\"text-align: right;\">\n",
       "      <th></th>\n",
       "      <th>DOI</th>\n",
       "      <th>decision</th>\n",
       "      <th>rationale</th>\n",
       "      <th>stage</th>\n",
       "    </tr>\n",
       "  </thead>\n",
       "  <tbody>\n",
       "    <tr>\n",
       "      <th>0</th>\n",
       "      <td>10.1002/chem.201601150</td>\n",
       "      <td>negligible risk</td>\n",
       "      <td>This paper is a review</td>\n",
       "      <td>1</td>\n",
       "    </tr>\n",
       "    <tr>\n",
       "      <th>1</th>\n",
       "      <td>10.1002/chem.202004790</td>\n",
       "      <td>negligible risk</td>\n",
       "      <td>This paper is a review</td>\n",
       "      <td>1</td>\n",
       "    </tr>\n",
       "    <tr>\n",
       "      <th>2</th>\n",
       "      <td>10.1002/mrc.4989</td>\n",
       "      <td>negligible risk</td>\n",
       "      <td>This paper is a review</td>\n",
       "      <td>1</td>\n",
       "    </tr>\n",
       "    <tr>\n",
       "      <th>3</th>\n",
       "      <td>10.1002/mrc.5234</td>\n",
       "      <td>negligible risk</td>\n",
       "      <td>This paper is a review</td>\n",
       "      <td>1</td>\n",
       "    </tr>\n",
       "    <tr>\n",
       "      <th>4</th>\n",
       "      <td>10.1002/mrc.5260</td>\n",
       "      <td>negligible risk</td>\n",
       "      <td>This paper is a review</td>\n",
       "      <td>1</td>\n",
       "    </tr>\n",
       "  </tbody>\n",
       "</table>\n",
       "</div>"
      ]
     },
     "execution_count": 6,
     "metadata": {},
     "output_type": "execute_result"
    }
   ],
   "execution_count": 6
  },
  {
   "metadata": {
    "ExecuteTime": {
     "end_time": "2024-08-15T16:04:18.249087Z",
     "start_time": "2024-08-15T16:04:18.226096Z"
    }
   },
   "cell_type": "code",
   "source": [
    "decision_keyword = decision_keyword[['DOI','decision', 'stage']]\n",
    "annotation = annotation[['DOI','Silver Standard']]\n",
    "decision_keyword['DOI'] = decision_keyword['DOI'].apply(clean)\n",
    "annotation['DOI'] = annotation['DOI'].apply(clean)"
   ],
   "id": "db8b41bef4323f1f",
   "outputs": [],
   "execution_count": 7
  },
  {
   "metadata": {
    "ExecuteTime": {
     "end_time": "2024-08-15T16:04:18.279695Z",
     "start_time": "2024-08-15T16:04:18.260651Z"
    }
   },
   "cell_type": "code",
   "source": [
    "# eval_df = pd.merge(left=decision_keyword, right=annotation, on='DOI', how='left')\n",
    "# eval_df.to_csv('eval_output/eval_keyword_silver.csv', index=False)"
   ],
   "id": "eead0b0ddbeff625",
   "outputs": [],
   "execution_count": 8
  },
  {
   "metadata": {},
   "cell_type": "markdown",
   "source": "## Evaluate decisions made by the ML approach versus the silver standard",
   "id": "31d8e42ab12cdd9b"
  },
  {
   "metadata": {
    "ExecuteTime": {
     "end_time": "2024-08-15T16:04:18.326471Z",
     "start_time": "2024-08-15T16:04:18.290235Z"
    }
   },
   "cell_type": "code",
   "source": "decision_df_tilo = pd.read_csv(DECISION_ML_FILE)",
   "id": "f0a2b00708cabd46",
   "outputs": [],
   "execution_count": 9
  },
  {
   "metadata": {
    "ExecuteTime": {
     "end_time": "2024-08-15T16:04:18.357499Z",
     "start_time": "2024-08-15T16:04:18.334445Z"
    }
   },
   "cell_type": "code",
   "source": [
    "decision_df_tilo = decision_df_tilo[['DOI','decision', 'stage']]\n",
    "decision_df_tilo['DOI'] = decision_df_tilo['DOI'].apply(clean)\n",
    "decision_df_tilo.head()"
   ],
   "id": "1a278b2330067344",
   "outputs": [
    {
     "data": {
      "text/plain": [
       "                      DOI         decision  stage\n",
       "0  10.1002/anie.201706532        high risk      3\n",
       "1  10.1002/anie.201708266  negligible risk      3\n",
       "2  10.1002/anie.201810566        high risk      3\n",
       "3  10.1002/anie.201902777  negligible risk      3\n",
       "4  10.1002/anie.201916566        high risk      3"
      ],
      "text/html": [
       "<div>\n",
       "<style scoped>\n",
       "    .dataframe tbody tr th:only-of-type {\n",
       "        vertical-align: middle;\n",
       "    }\n",
       "\n",
       "    .dataframe tbody tr th {\n",
       "        vertical-align: top;\n",
       "    }\n",
       "\n",
       "    .dataframe thead th {\n",
       "        text-align: right;\n",
       "    }\n",
       "</style>\n",
       "<table border=\"1\" class=\"dataframe\">\n",
       "  <thead>\n",
       "    <tr style=\"text-align: right;\">\n",
       "      <th></th>\n",
       "      <th>DOI</th>\n",
       "      <th>decision</th>\n",
       "      <th>stage</th>\n",
       "    </tr>\n",
       "  </thead>\n",
       "  <tbody>\n",
       "    <tr>\n",
       "      <th>0</th>\n",
       "      <td>10.1002/anie.201706532</td>\n",
       "      <td>high risk</td>\n",
       "      <td>3</td>\n",
       "    </tr>\n",
       "    <tr>\n",
       "      <th>1</th>\n",
       "      <td>10.1002/anie.201708266</td>\n",
       "      <td>negligible risk</td>\n",
       "      <td>3</td>\n",
       "    </tr>\n",
       "    <tr>\n",
       "      <th>2</th>\n",
       "      <td>10.1002/anie.201810566</td>\n",
       "      <td>high risk</td>\n",
       "      <td>3</td>\n",
       "    </tr>\n",
       "    <tr>\n",
       "      <th>3</th>\n",
       "      <td>10.1002/anie.201902777</td>\n",
       "      <td>negligible risk</td>\n",
       "      <td>3</td>\n",
       "    </tr>\n",
       "    <tr>\n",
       "      <th>4</th>\n",
       "      <td>10.1002/anie.201916566</td>\n",
       "      <td>high risk</td>\n",
       "      <td>3</td>\n",
       "    </tr>\n",
       "  </tbody>\n",
       "</table>\n",
       "</div>"
      ]
     },
     "execution_count": 10,
     "metadata": {},
     "output_type": "execute_result"
    }
   ],
   "execution_count": 10
  },
  {
   "metadata": {
    "ExecuteTime": {
     "end_time": "2024-08-15T16:04:18.373057Z",
     "start_time": "2024-08-15T16:04:18.361508Z"
    }
   },
   "cell_type": "code",
   "source": "decision_df_tilo.loc[decision_df_tilo['decision'].isna()] = 'negligible risk'",
   "id": "aa61f9535338619f",
   "outputs": [],
   "execution_count": 11
  },
  {
   "metadata": {
    "ExecuteTime": {
     "end_time": "2024-08-15T16:04:18.404418Z",
     "start_time": "2024-08-15T16:04:18.378606Z"
    }
   },
   "cell_type": "code",
   "source": [
    "# eval_df = pd.merge(left=decision_df_tilo, right=annotation, on='DOI', how='left')\n",
    "# eval_df.to_csv('eval_output/eval_tilo_silver.csv', index=False)"
   ],
   "id": "5123aa45fe849ef0",
   "outputs": [],
   "execution_count": 12
  },
  {
   "metadata": {},
   "cell_type": "markdown",
   "source": "",
   "id": "b25975f791a74438"
  },
  {
   "metadata": {},
   "cell_type": "markdown",
   "source": "## Merge data for all decisions",
   "id": "2b97c79929e38b0d"
  },
  {
   "metadata": {
    "ExecuteTime": {
     "end_time": "2024-08-15T16:04:18.466159Z",
     "start_time": "2024-08-15T16:04:18.409297Z"
    }
   },
   "cell_type": "code",
   "source": [
    "combined_df = pd.merge(left=annotation, right=decision_keyword, on='DOI', how='left').merge(right=decision_df_tilo.drop(columns=['stage']), on='DOI', how='left', suffixes=('_keyword', '_machine_learning'))\n",
    "\n",
    "combined_df['decision_base'] = ['high risk']*combined_df.shape[0]\n",
    "\n",
    "for idx in range(len(combined_df)):\n",
    "    if combined_df['stage'][idx] == 1 or combined_df['stage'][idx] == 2:\n",
    "        combined_df.loc[idx, 'decision_base'] = combined_df['decision_keyword'][idx]\n",
    "        combined_df.loc[idx, 'decision_machine_learning'] = combined_df['decision_keyword'][idx]"
   ],
   "id": "48aea980fa861c04",
   "outputs": [],
   "execution_count": 13
  },
  {
   "metadata": {},
   "cell_type": "markdown",
   "source": "### produced results shown in Table 3 of the manuscript",
   "id": "4c13899146c6e7b6"
  },
  {
   "metadata": {
    "ExecuteTime": {
     "end_time": "2024-08-15T16:04:18.496756Z",
     "start_time": "2024-08-15T16:04:18.470155Z"
    }
   },
   "cell_type": "code",
   "source": [
    "# conversion\n",
    "combined_df['decision_keyword_conv'] = [conversion(silver, decision) for silver, decision in zip(combined_df['Silver Standard'], combined_df['decision_keyword'])]\n",
    "\n",
    "combined_df['decision_machine_learning_conv'] = [conversion(silver, decision) for silver, decision in zip(combined_df['Silver Standard'], combined_df['decision_machine_learning'])]\n",
    "\n",
    "combined_df['decision_base_conv'] = [conversion(silver, decision) for silver, decision in zip(combined_df['Silver Standard'], combined_df['decision_base'])]"
   ],
   "id": "82fe9e5892ba8f24",
   "outputs": [],
   "execution_count": 14
  },
  {
   "metadata": {
    "ExecuteTime": {
     "end_time": "2024-08-15T16:04:18.527437Z",
     "start_time": "2024-08-15T16:04:18.502778Z"
    }
   },
   "cell_type": "code",
   "source": "",
   "id": "4b3286c21d2f8e8d",
   "outputs": [],
   "execution_count": 15
  },
  {
   "metadata": {
    "ExecuteTime": {
     "end_time": "2024-08-15T16:09:12.630205Z",
     "start_time": "2024-08-15T16:09:12.603867Z"
    }
   },
   "cell_type": "code",
   "source": [
    "with open(OUTFILE_PATH, 'w') as f:\n",
    "    f.write('Approaches\\tFalse Negative Rate (%)\\tFalse Positive Rate (%)\\n')\n",
    "    \n",
    "computing_performance(combined_df['decision_base_conv'], 'Base approach (Stages 1 & 2)', OUTFILE_PATH)\n",
    "computing_performance(combined_df['decision_keyword_conv'], 'Approach-KW (Stages 1, 2, & 3)', OUTFILE_PATH)\n",
    "computing_performance(combined_df.loc[combined_df['stage'] == 3, 'decision_keyword_conv'], 'The keyword-based decision tree module (Q4 and Q5) in Approach-KW (Stage 3)', OUTFILE_PATH)\n",
    "computing_performance(combined_df['decision_machine_learning_conv'], 'Approach-ML (Stages 1, 2, & 3)', OUTFILE_PATH)\n",
    "computing_performance(combined_df.loc[combined_df['stage'] == 3, 'decision_machine_learning_conv'], 'The machine learning-based module in Approach-ML (Stage 3)', OUTFILE_PATH)\n"
   ],
   "id": "e51935804a748ba0",
   "outputs": [],
   "execution_count": 21
  }
 ],
 "metadata": {
  "kernelspec": {
   "display_name": "Python 3",
   "language": "python",
   "name": "python3"
  },
  "language_info": {
   "codemirror_mode": {
    "name": "ipython",
    "version": 2
   },
   "file_extension": ".py",
   "mimetype": "text/x-python",
   "name": "python",
   "nbconvert_exporter": "python",
   "pygments_lexer": "ipython2",
   "version": "2.7.6"
  }
 },
 "nbformat": 4,
 "nbformat_minor": 5
}
